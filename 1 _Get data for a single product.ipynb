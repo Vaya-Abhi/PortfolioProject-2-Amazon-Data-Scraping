{
 "cells": [
  {
   "cell_type": "code",
   "execution_count": 1,
   "id": "3fb37a12",
   "metadata": {},
   "outputs": [],
   "source": [
    "# import libraries\n",
    "from bs4 import BeautifulSoup\n",
    "import requests\n",
    "import csv\n",
    "import smtplib\n",
    "import time\n",
    "import datetime\n"
   ]
  },
  {
   "cell_type": "code",
   "execution_count": 3,
   "id": "48b8f849",
   "metadata": {},
   "outputs": [
    {
     "name": "stdout",
     "output_type": "stream",
     "text": [
      "Wilson Tour Slam Strung Tennis Racquet, 4 1/2-Inch, Black/Green\n",
      "54.59\n"
     ]
    }
   ],
   "source": [
    "# connect to the website and pull data\n",
    "\n",
    "URL = \"https://www.amazon.ca/Wilson-Strung-Tennis-Racquet-2-Inch/dp/B00TQKBPV8/ref=sr_1_5?crid=13LKS7TIUJ9MY&keywords=tennis+racket&qid=1687978156&refinements=p_89%3ABabolat%7CHEAD%7CWilson%7CYONEX&rnid=7590290011&s=sports&sprefix=%2Caps%2C820&sr=1-5\"\n",
    "\n",
    "# http://httpbin.org/get\n",
    "headers = {\"User-Agent\": \"Mozilla/5.0 (Windows NT 10.0; Win64; x64) AppleWebKit/537.36 (KHTML, like Gecko) Chrome/113.0.0.0 Safari/537.36\", \"Accept-Encoding\":\"gzip, deflate\", \"Accept\":\"text/html,application/xhtml+xml,application/xml;q=0.9,*/*;q=0.8\", \"DNT\":\"1\",\"Connection\":\"close\", \"Upgrade-Insecure-Requests\":\"1\"}\n",
    "\n",
    "page = requests.get(URL, headers=headers)\n",
    "\n",
    "soup1 = BeautifulSoup(page.content, \"html.parser\")\n",
    "\n",
    "soup2 = BeautifulSoup(soup1.prettify(), \"html.parser\")\n",
    "\n",
    "\n",
    "title = soup2.find(id='productTitle').get_text()\n",
    "price = soup2.find(name=\"span\", class_=\"a-offscreen\").get_text()\n",
    "\n",
    "cl_price = price.strip()[1:]\n",
    "cl_title = title.strip()\n",
    "\n",
    "print(cl_title)\n",
    "print(cl_price)"
   ]
  },
  {
   "cell_type": "code",
   "execution_count": 4,
   "id": "4882645c",
   "metadata": {},
   "outputs": [],
   "source": [
    "header = [\"title\", \"price\"]\n",
    "data = [cl_title, cl_price]\n",
    "\n",
    "with open(\"Output_1_product_data.csv\", \"w\", newline=\"\", encoding=\"UTF8\") as file:\n",
    "    writer = csv.writer(file)\n",
    "    writer.writerow(header)\n",
    "    writer.writerow(data)\n",
    "\n",
    "\n"
   ]
  },
  {
   "cell_type": "code",
   "execution_count": null,
   "id": "9c673d1b",
   "metadata": {},
   "outputs": [],
   "source": []
  }
 ],
 "metadata": {
  "kernelspec": {
   "display_name": "Python 3 (ipykernel)",
   "language": "python",
   "name": "python3"
  },
  "language_info": {
   "codemirror_mode": {
    "name": "ipython",
    "version": 3
   },
   "file_extension": ".py",
   "mimetype": "text/x-python",
   "name": "python",
   "nbconvert_exporter": "python",
   "pygments_lexer": "ipython3",
   "version": "3.11.3"
  }
 },
 "nbformat": 4,
 "nbformat_minor": 5
}
